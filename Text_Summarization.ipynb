{
 "cells": [
  {
   "cell_type": "code",
   "execution_count": 1,
   "id": "d107f778",
   "metadata": {},
   "outputs": [
    {
     "name": "stderr",
     "output_type": "stream",
     "text": [
      "C:\\ProgramData\\Anaconda3\\lib\\site-packages\\gensim\\utils.py:1197: UserWarning: detected Windows; aliasing chunkize to chunkize_serial\n",
      "  warnings.warn(\"detected Windows; aliasing chunkize to chunkize_serial\")\n"
     ]
    }
   ],
   "source": [
    "# Importing genism package and summarizer\n",
    "import gensim\n",
    "from gensim.summarization.summarizer import summarize\n",
    "from gensim.summarization import keywords\n",
    "\n",
    "import wikipedia"
   ]
  },
  {
   "cell_type": "code",
   "execution_count": 2,
   "id": "f128bf50",
   "metadata": {},
   "outputs": [],
   "source": [
    "# Get wiki content.\n",
    "wikisearch = wikipedia.page(\"Microsoft\")\n",
    "wikicontent = wikisearch.content\n",
    "#print(wikicontent)"
   ]
  },
  {
   "cell_type": "code",
   "execution_count": 3,
   "id": "9bb420d1",
   "metadata": {
    "scrolled": true
   },
   "outputs": [
    {
     "name": "stdout",
     "output_type": "stream",
     "text": [
      "summary by ratio\n",
      "The company also produces a wide range of other consumer and enterprise software for desktops, laptops, tabs, gadgets, and servers, including Internet search (with Bing), the digital services market (through MSN), mixed reality (HoloLens), cloud computing (Azure), and software development (Visual Studio).\n",
      "This unfolded with Microsoft acquiring Danger Inc. in 2008, entering the personal computer production market for the first time in June 2012 with the launch of the Microsoft Surface line of tablet computers, and later forming Microsoft Mobile through the acquisition of Nokia's devices and services division.\n",
      "During the summer of 2015 the company lost $7.6 billion related to its mobile-phone business, firing 7,800 employees.On March 1, 2016, Microsoft announced the merger of its PC and Xbox divisions, with Phil Spencer announcing that Universal Windows Platform (UWP) apps would be the focus for Microsoft's gaming in the future.\n"
     ]
    }
   ],
   "source": [
    "# Summary by 0.1% of the original content\n",
    "summary_ratio = summarize(wikicontent, ratio = 0.01)\n",
    "print(\"summary by ratio\")\n",
    "print(summary_ratio)"
   ]
  },
  {
   "cell_type": "markdown",
   "id": "bc2e04ec",
   "metadata": {},
   "source": [
    "## Text Summarization using Gensim with TextRank"
   ]
  },
  {
   "cell_type": "code",
   "execution_count": 4,
   "id": "86fe7803",
   "metadata": {},
   "outputs": [
    {
     "name": "stdout",
     "output_type": "stream",
     "text": [
      "summary by word count\n",
      "The company also produces a wide range of other consumer and enterprise software for desktops, laptops, tabs, gadgets, and servers, including Internet search (with Bing), the digital services market (through MSN), mixed reality (HoloLens), cloud computing (Azure), and software development (Visual Studio).\n",
      "This unfolded with Microsoft acquiring Danger Inc. in 2008, entering the personal computer production market for the first time in June 2012 with the launch of the Microsoft Surface line of tablet computers, and later forming Microsoft Mobile through the acquisition of Nokia's devices and services division.\n",
      "On May 22, Microsoft launched Windows 3.0, featuring streamlined user interface graphics and improved protected mode capability for the Intel 386 processor, and both Office and Windows became dominant in their respective areas.On July 27, 1994, the Department of Justice's Antitrust Division filed a competitive impact statement which said: \"Beginning in 1988, and continuing until July 15, 1994, Microsoft induced many OEMs to execute anti-competitive 'per processor' licenses.\n",
      "During the summer of 2015 the company lost $7.6 billion related to its mobile-phone business, firing 7,800 employees.On March 1, 2016, Microsoft announced the merger of its PC and Xbox divisions, with Phil Spencer announcing that Universal Windows Platform (UWP) apps would be the focus for Microsoft's gaming in the future.\n"
     ]
    }
   ],
   "source": [
    "#summary by count of words\n",
    "summary_wordcount = summarize(wikicontent, word_count = 200)\n",
    "print(\"summary by word count\")\n",
    "print(summary_wordcount)"
   ]
  },
  {
   "cell_type": "markdown",
   "id": "15ab44aa",
   "metadata": {},
   "source": [
    "## Text Summarization using sumy LexRank summarizer"
   ]
  },
  {
   "cell_type": "code",
   "execution_count": 5,
   "id": "593cff1a",
   "metadata": {},
   "outputs": [],
   "source": [
    "#importing sumy\n",
    "import sumy\n",
    "\n",
    "# Importing the parser,tokenizer and summarizer\n",
    "from sumy.parsers.plaintext import PlaintextParser\n",
    "from sumy.nlp.tokenizers import Tokenizer\n",
    "from sumy.summarizers.lex_rank import LexRankSummarizer"
   ]
  },
  {
   "cell_type": "code",
   "execution_count": 6,
   "id": "1870dcbb",
   "metadata": {},
   "outputs": [],
   "source": [
    "# Initializing the parser\n",
    "my_parser = PlaintextParser.from_string(wikicontent,Tokenizer('english'))"
   ]
  },
  {
   "cell_type": "code",
   "execution_count": 7,
   "id": "712e0298",
   "metadata": {},
   "outputs": [
    {
     "name": "stdout",
     "output_type": "stream",
     "text": [
      "Since the 1990s, it has increasingly diversified from the operating system market and has made a number of corporate acquisitions, their largest being the acquisition of LinkedIn for $26.2 billion in December 2016, followed by their acquisition of Skype Technologies for $8.5 billion in May 2011.As of 2015, Microsoft is market-dominant in the IBM PC compatible operating system market and the office software suite market, although it has lost the majority of the overall operating system market to Android.\n",
      "As a result, in 2010 Microsoft revamped their aging flagship mobile operating system, Windows Mobile, replacing it with the new Windows Phone OS that was released in October that year.\n",
      "=== 2011–2014: Windows 8/8.1, Xbox One, Outlook.com, and Surface devices ===\n",
      "On October 26, 2012, Microsoft launched Windows 8 and the Microsoft Surface.\n",
      "=== United States government ===\n"
     ]
    }
   ],
   "source": [
    "#creating a LexRank summary of 5 sentences.\n",
    "lex_rank_summarizer = LexRankSummarizer()\n",
    "lexrank_summary = lex_rank_summarizer(my_parser.document,sentences_count=5)\n",
    "for sentence in lexrank_summary:\n",
    "  print(sentence)"
   ]
  },
  {
   "cell_type": "markdown",
   "id": "786225d1",
   "metadata": {},
   "source": [
    "## Text Summarization using sumy -LSA (Latent semantic analysis)"
   ]
  },
  {
   "cell_type": "code",
   "execution_count": 8,
   "id": "59c11a6e",
   "metadata": {},
   "outputs": [],
   "source": [
    "# importing the summarizer\n",
    "from sumy.summarizers.lsa import LsaSummarizer"
   ]
  },
  {
   "cell_type": "code",
   "execution_count": 9,
   "id": "cfd6a5fc",
   "metadata": {},
   "outputs": [
    {
     "name": "stdout",
     "output_type": "stream",
     "text": [
      "Microsoft created Windows CE 1.0, a new OS designed for devices with low memory and other constraints, such as personal digital assistants.\n",
      "Released in January 2007, the next version of Windows, Vista, focused on features, security and a redesigned user interface dubbed Aero.\n",
      "In 2015, Reuters reported that Microsoft Corp had earnings abroad of $76.4 billion which were untaxed by the Internal Revenue Service.\n",
      "Following media reports about PRISM, NSA's massive electronic surveillance program, in May 2013, several technology companies were identified as participants, including Microsoft.\n",
      "Another bit of jargon, FYIFV or FYIV (\"Fuck You, I'm [Fully] Vested\"), is used by an employee to indicate they are financially independent and can avoid work anytime they wish.Microsoft is an outspoken opponent of the cap on H-1B visas, which allow companies in the U.S. to employ certain foreign workers.\n"
     ]
    }
   ],
   "source": [
    "# creating the LSA summarizer with summary of 5 sentences\n",
    "lsa_summarizer=LsaSummarizer()\n",
    "lsa_summary= lsa_summarizer(my_parser.document,5)\n",
    "for sentence in lsa_summary:\n",
    "  print(sentence)"
   ]
  },
  {
   "cell_type": "markdown",
   "id": "f960deef",
   "metadata": {},
   "source": [
    "# Abstractive Text Summarization"
   ]
  },
  {
   "cell_type": "markdown",
   "id": "56615753",
   "metadata": {},
   "source": [
    "## Text Summarization using BARTTransformers"
   ]
  },
  {
   "cell_type": "code",
   "execution_count": 10,
   "id": "56c37fd7",
   "metadata": {},
   "outputs": [],
   "source": [
    "# importing BART\n",
    "from transformers import BartForConditionalGeneration, BartTokenizer, BartConfig"
   ]
  },
  {
   "cell_type": "code",
   "execution_count": 11,
   "id": "bae5a577",
   "metadata": {},
   "outputs": [],
   "source": [
    "# Loading the model and tokenizer for bart-large-cnn\n",
    "tokenizer=BartTokenizer.from_pretrained('facebook/bart-large-cnn')\n",
    "model=BartForConditionalGeneration.from_pretrained('facebook/bart-large-cnn')"
   ]
  },
  {
   "cell_type": "code",
   "execution_count": 12,
   "id": "0ebcd465",
   "metadata": {},
   "outputs": [
    {
     "name": "stderr",
     "output_type": "stream",
     "text": [
      "C:\\ProgramData\\Anaconda3\\lib\\site-packages\\torch\\_tensor.py:575: UserWarning: floor_divide is deprecated, and will be removed in a future version of pytorch. It currently rounds toward 0 (like the 'trunc' function NOT 'floor'). This results in incorrect rounding for negative values.\n",
      "To keep the current behavior, use torch.div(a, b, rounding_mode='trunc'), or for actual floor division, use torch.div(a, b, rounding_mode='floor'). (Triggered internally at  ..\\aten\\src\\ATen\\native\\BinaryOps.cpp:467.)\n",
      "  return torch.floor_divide(self, other)\n"
     ]
    },
    {
     "data": {
      "text/plain": [
       "tensor([[    2,     0, 35460,    21,  4790,    30,  1585, 10090,     8,  1206,\n",
       "          3823,    15,   587,   204,     6, 14873,     6,     7,  2179,     8,\n",
       "          1331, 17430,  2371, 36705,  2696,    13,     5,  7330,  2456,   290,\n",
       "          3913,     4,    85,  1458,     7, 11781,     5,  1081,  3034,  1633,\n",
       "           467,   210,    19,  6253,    12, 47198,    11,     5,  1084,    12,\n",
       "         34499,    29,     6,  1432,    30,  3709,  6039,     4,    20,   138,\n",
       "            18, 11265,  2557,   285,  1839,    36,  3808,   673,    43,  1412,\n",
       "           130, 28329,     8,    41,  2319,   316,     6,   151, 36826,   566,\n",
       "          3709,  1321,     4,    96,   199,  3709, 32929,    63,   737,    25,\n",
       "             5,   144,  5130,  3271,  2281,   138,    11,     5,   232,     4,\n",
       "           287,     9,  2760,     6,  3709,    34,     5,   371,    12, 21810,\n",
       "           720,  1518,  7440,     4,     2]])"
      ]
     },
     "execution_count": 12,
     "metadata": {},
     "output_type": "execute_result"
    }
   ],
   "source": [
    "inputs = tokenizer.batch_encode_plus([wikicontent],return_tensors='pt',truncation=True)\n",
    "summary_ids = model.generate(inputs['input_ids'], early_stopping=True)\n",
    "summary_ids"
   ]
  },
  {
   "cell_type": "code",
   "execution_count": 13,
   "id": "19c57a60",
   "metadata": {},
   "outputs": [
    {
     "name": "stdout",
     "output_type": "stream",
     "text": [
      "Microsoft was founded by Bill Gates and Paul Allen on April 4, 1975, to develop and sell BASIC interpreters for the Altair 8800. It rose to dominate the personal computer operating system market with MS-DOS in the mid-1980s, followed by Microsoft Windows. The company's 1986 initial public offering (IPO) created three billionaires and an estimated 12,000 millionaires among Microsoft employees. In 2018 Microsoft reclaimed its position as the most valuable publicly traded company in the world. As of 2020, Microsoft has the third-highest global brand valuation.\n"
     ]
    }
   ],
   "source": [
    "# Decoding and printing the summary\n",
    "bart_summary = tokenizer.decode(summary_ids[0], skip_special_tokens=True)\n",
    "print(bart_summary)"
   ]
  },
  {
   "cell_type": "markdown",
   "id": "88081e34",
   "metadata": {},
   "source": []
  }
 ],
 "metadata": {
  "kernelspec": {
   "display_name": "Python 3",
   "language": "python",
   "name": "python3"
  },
  "language_info": {
   "codemirror_mode": {
    "name": "ipython",
    "version": 3
   },
   "file_extension": ".py",
   "mimetype": "text/x-python",
   "name": "python",
   "nbconvert_exporter": "python",
   "pygments_lexer": "ipython3",
   "version": "3.8.8"
  }
 },
 "nbformat": 4,
 "nbformat_minor": 5
}
